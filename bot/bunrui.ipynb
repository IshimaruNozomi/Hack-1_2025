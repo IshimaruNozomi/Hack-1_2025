{
 "cells": [
  {
   "cell_type": "code",
   "execution_count": 19,
   "id": "e32dcc4b",
   "metadata": {},
   "outputs": [
    {
     "name": "stdout",
     "output_type": "stream",
     "text": [
      "Requirement already satisfied: tensorflow in /Users/fukasakai/Hack-1_2025/.venv/lib/python3.10/site-packages (2.19.0)\n",
      "Requirement already satisfied: absl-py>=1.0.0 in /Users/fukasakai/Hack-1_2025/.venv/lib/python3.10/site-packages (from tensorflow) (2.2.2)\n",
      "Requirement already satisfied: setuptools in /Users/fukasakai/Hack-1_2025/.venv/lib/python3.10/site-packages (from tensorflow) (58.1.0)\n",
      "Requirement already satisfied: typing-extensions>=3.6.6 in /Users/fukasakai/Hack-1_2025/.venv/lib/python3.10/site-packages (from tensorflow) (4.13.2)\n",
      "Requirement already satisfied: google-pasta>=0.1.1 in /Users/fukasakai/Hack-1_2025/.venv/lib/python3.10/site-packages (from tensorflow) (0.2.0)\n",
      "Requirement already satisfied: keras>=3.5.0 in /Users/fukasakai/Hack-1_2025/.venv/lib/python3.10/site-packages (from tensorflow) (3.10.0)\n",
      "Requirement already satisfied: grpcio<2.0,>=1.24.3 in /Users/fukasakai/Hack-1_2025/.venv/lib/python3.10/site-packages (from tensorflow) (1.71.0)\n",
      "Requirement already satisfied: astunparse>=1.6.0 in /Users/fukasakai/Hack-1_2025/.venv/lib/python3.10/site-packages (from tensorflow) (1.6.3)\n",
      "Requirement already satisfied: opt-einsum>=2.3.2 in /Users/fukasakai/Hack-1_2025/.venv/lib/python3.10/site-packages (from tensorflow) (3.4.0)\n",
      "Requirement already satisfied: packaging in /Users/fukasakai/Hack-1_2025/.venv/lib/python3.10/site-packages (from tensorflow) (25.0)\n",
      "Requirement already satisfied: tensorboard~=2.19.0 in /Users/fukasakai/Hack-1_2025/.venv/lib/python3.10/site-packages (from tensorflow) (2.19.0)\n",
      "Requirement already satisfied: numpy<2.2.0,>=1.26.0 in /Users/fukasakai/Hack-1_2025/.venv/lib/python3.10/site-packages (from tensorflow) (2.1.3)\n",
      "Requirement already satisfied: libclang>=13.0.0 in /Users/fukasakai/Hack-1_2025/.venv/lib/python3.10/site-packages (from tensorflow) (18.1.1)\n",
      "Requirement already satisfied: protobuf!=4.21.0,!=4.21.1,!=4.21.2,!=4.21.3,!=4.21.4,!=4.21.5,<6.0.0dev,>=3.20.3 in /Users/fukasakai/Hack-1_2025/.venv/lib/python3.10/site-packages (from tensorflow) (5.29.4)\n",
      "Requirement already satisfied: six>=1.12.0 in /Users/fukasakai/Hack-1_2025/.venv/lib/python3.10/site-packages (from tensorflow) (1.17.0)\n",
      "Requirement already satisfied: tensorflow-io-gcs-filesystem>=0.23.1 in /Users/fukasakai/Hack-1_2025/.venv/lib/python3.10/site-packages (from tensorflow) (0.37.1)\n",
      "Requirement already satisfied: termcolor>=1.1.0 in /Users/fukasakai/Hack-1_2025/.venv/lib/python3.10/site-packages (from tensorflow) (3.1.0)\n",
      "Requirement already satisfied: gast!=0.5.0,!=0.5.1,!=0.5.2,>=0.2.1 in /Users/fukasakai/Hack-1_2025/.venv/lib/python3.10/site-packages (from tensorflow) (0.6.0)\n",
      "Requirement already satisfied: wrapt>=1.11.0 in /Users/fukasakai/Hack-1_2025/.venv/lib/python3.10/site-packages (from tensorflow) (1.17.2)\n",
      "Requirement already satisfied: ml-dtypes<1.0.0,>=0.5.1 in /Users/fukasakai/Hack-1_2025/.venv/lib/python3.10/site-packages (from tensorflow) (0.5.1)\n",
      "Requirement already satisfied: flatbuffers>=24.3.25 in /Users/fukasakai/Hack-1_2025/.venv/lib/python3.10/site-packages (from tensorflow) (25.2.10)\n",
      "Requirement already satisfied: h5py>=3.11.0 in /Users/fukasakai/Hack-1_2025/.venv/lib/python3.10/site-packages (from tensorflow) (3.13.0)\n",
      "Requirement already satisfied: requests<3,>=2.21.0 in /Users/fukasakai/Hack-1_2025/.venv/lib/python3.10/site-packages (from tensorflow) (2.32.3)\n",
      "Requirement already satisfied: wheel<1.0,>=0.23.0 in /Users/fukasakai/Hack-1_2025/.venv/lib/python3.10/site-packages (from astunparse>=1.6.0->tensorflow) (0.45.1)\n",
      "Requirement already satisfied: rich in /Users/fukasakai/Hack-1_2025/.venv/lib/python3.10/site-packages (from keras>=3.5.0->tensorflow) (14.0.0)\n",
      "Requirement already satisfied: namex in /Users/fukasakai/Hack-1_2025/.venv/lib/python3.10/site-packages (from keras>=3.5.0->tensorflow) (0.0.9)\n",
      "Requirement already satisfied: optree in /Users/fukasakai/Hack-1_2025/.venv/lib/python3.10/site-packages (from keras>=3.5.0->tensorflow) (0.15.0)\n",
      "Requirement already satisfied: certifi>=2017.4.17 in /Users/fukasakai/Hack-1_2025/.venv/lib/python3.10/site-packages (from requests<3,>=2.21.0->tensorflow) (2025.4.26)\n",
      "Requirement already satisfied: idna<4,>=2.5 in /Users/fukasakai/Hack-1_2025/.venv/lib/python3.10/site-packages (from requests<3,>=2.21.0->tensorflow) (3.10)\n",
      "Requirement already satisfied: urllib3<3,>=1.21.1 in /Users/fukasakai/Hack-1_2025/.venv/lib/python3.10/site-packages (from requests<3,>=2.21.0->tensorflow) (2.4.0)\n",
      "Requirement already satisfied: charset-normalizer<4,>=2 in /Users/fukasakai/Hack-1_2025/.venv/lib/python3.10/site-packages (from requests<3,>=2.21.0->tensorflow) (3.4.2)\n",
      "Requirement already satisfied: tensorboard-data-server<0.8.0,>=0.7.0 in /Users/fukasakai/Hack-1_2025/.venv/lib/python3.10/site-packages (from tensorboard~=2.19.0->tensorflow) (0.7.2)\n",
      "Requirement already satisfied: werkzeug>=1.0.1 in /Users/fukasakai/Hack-1_2025/.venv/lib/python3.10/site-packages (from tensorboard~=2.19.0->tensorflow) (3.1.3)\n",
      "Requirement already satisfied: markdown>=2.6.8 in /Users/fukasakai/Hack-1_2025/.venv/lib/python3.10/site-packages (from tensorboard~=2.19.0->tensorflow) (3.8)\n",
      "Requirement already satisfied: MarkupSafe>=2.1.1 in /Users/fukasakai/Hack-1_2025/.venv/lib/python3.10/site-packages (from werkzeug>=1.0.1->tensorboard~=2.19.0->tensorflow) (3.0.2)\n",
      "Requirement already satisfied: pygments<3.0.0,>=2.13.0 in /Users/fukasakai/Hack-1_2025/.venv/lib/python3.10/site-packages (from rich->keras>=3.5.0->tensorflow) (2.19.1)\n",
      "Requirement already satisfied: markdown-it-py>=2.2.0 in /Users/fukasakai/Hack-1_2025/.venv/lib/python3.10/site-packages (from rich->keras>=3.5.0->tensorflow) (3.0.0)\n",
      "Requirement already satisfied: mdurl~=0.1 in /Users/fukasakai/Hack-1_2025/.venv/lib/python3.10/site-packages (from markdown-it-py>=2.2.0->rich->keras>=3.5.0->tensorflow) (0.1.2)\n",
      "\u001b[33mWARNING: You are using pip version 21.2.4; however, version 25.1.1 is available.\n",
      "You should consider upgrading via the '/Users/fukasakai/Hack-1_2025/.venv/bin/python -m pip install --upgrade pip' command.\u001b[0m\n",
      "Note: you may need to restart the kernel to use updated packages.\n"
     ]
    }
   ],
   "source": [
    "pip install tensorflow\n"
   ]
  },
  {
   "cell_type": "code",
   "execution_count": 20,
   "id": "026cd406",
   "metadata": {},
   "outputs": [
    {
     "name": "stdout",
     "output_type": "stream",
     "text": [
      "Requirement already satisfied: matplotlib in /Users/fukasakai/Hack-1_2025/.venv/lib/python3.10/site-packages (3.10.3)\n",
      "Requirement already satisfied: pyparsing>=2.3.1 in /Users/fukasakai/Hack-1_2025/.venv/lib/python3.10/site-packages (from matplotlib) (3.2.3)\n",
      "Requirement already satisfied: packaging>=20.0 in /Users/fukasakai/Hack-1_2025/.venv/lib/python3.10/site-packages (from matplotlib) (25.0)\n",
      "Requirement already satisfied: python-dateutil>=2.7 in /Users/fukasakai/Hack-1_2025/.venv/lib/python3.10/site-packages (from matplotlib) (2.9.0.post0)\n",
      "Requirement already satisfied: cycler>=0.10 in /Users/fukasakai/Hack-1_2025/.venv/lib/python3.10/site-packages (from matplotlib) (0.12.1)\n",
      "Requirement already satisfied: kiwisolver>=1.3.1 in /Users/fukasakai/Hack-1_2025/.venv/lib/python3.10/site-packages (from matplotlib) (1.4.8)\n",
      "Requirement already satisfied: pillow>=8 in /Users/fukasakai/Hack-1_2025/.venv/lib/python3.10/site-packages (from matplotlib) (11.2.1)\n",
      "Requirement already satisfied: fonttools>=4.22.0 in /Users/fukasakai/Hack-1_2025/.venv/lib/python3.10/site-packages (from matplotlib) (4.58.0)\n",
      "Requirement already satisfied: contourpy>=1.0.1 in /Users/fukasakai/Hack-1_2025/.venv/lib/python3.10/site-packages (from matplotlib) (1.3.2)\n",
      "Requirement already satisfied: numpy>=1.23 in /Users/fukasakai/Hack-1_2025/.venv/lib/python3.10/site-packages (from matplotlib) (2.1.3)\n",
      "Requirement already satisfied: six>=1.5 in /Users/fukasakai/Hack-1_2025/.venv/lib/python3.10/site-packages (from python-dateutil>=2.7->matplotlib) (1.17.0)\n",
      "\u001b[33mWARNING: You are using pip version 21.2.4; however, version 25.1.1 is available.\n",
      "You should consider upgrading via the '/Users/fukasakai/Hack-1_2025/.venv/bin/python -m pip install --upgrade pip' command.\u001b[0m\n",
      "Note: you may need to restart the kernel to use updated packages.\n"
     ]
    }
   ],
   "source": [
    "pip install matplotlib"
   ]
  },
  {
   "cell_type": "code",
   "execution_count": 21,
   "id": "069adbdd",
   "metadata": {},
   "outputs": [],
   "source": [
    "import tensorflow as tf\n",
    "from tensorflow.keras import layers, models\n",
    "import matplotlib.pyplot as plt\n",
    "import numpy as np\n",
    "import os\n"
   ]
  },
  {
   "cell_type": "code",
   "execution_count": null,
   "id": "d00e52cb",
   "metadata": {},
   "outputs": [
    {
     "name": "stdout",
     "output_type": "stream",
     "text": [
      "Found 100 files belonging to 5 classes.\n",
      "Using 80 files for training.\n",
      "Found 100 files belonging to 5 classes.\n",
      "Using 20 files for validation.\n"
     ]
    }
   ],
   "source": [
    "image_size = (180, 180)\n",
    "batch_size = 32\n",
    "#クラス数は、データセットのサブディレクトリの数に基づいて自動的に決定されます。\n",
    "train_ds = tf.keras.utils.image_dataset_from_directory(\n",
    "    #これは、データセットのディレクトリを指定します。\n",
    "  \"/Users/fukasakai/Hack-1_2025/gazou_bunnrui\",\n",
    "  #データセットのディレクトリは、画像がサブディレクトリに分類されている必要があります。\n",
    "  validation_split=0.2,\n",
    "  subset=\"training\",\n",
    "  #データセットの分割を指定します。ここでは、80%をトレーニング用、20%を検証用に使用します。\n",
    "  #ランダムなシードを指定します。これにより、データセットの分割が再現可能になります。\n",
    "  seed=123,\n",
    "  image_size=image_size,  #画像のサイズを指定します。ここでは、180x180ピクセルにリサイズされます。\n",
    "  #画像のサイズを指定します。ここでは、180x180ピクセルにリサイズされます。\n",
    "  #バッチサイズを指定します。ここでは、32枚の画像を1つのバッチとして処理します。\n",
    "  #バッチサイズを指定します。ここでは、32枚の画像を1つのバッチとして処理します。\n",
    "  batch_size=batch_size\n",
    ")\n",
    "\n",
    "val_ds = tf.keras.utils.image_dataset_from_directory(\n",
    "  #データセットのディレクトリを指定します。\n",
    "  \"/Users/fukasakai/Hack-1_2025/gazou_bunnrui\", \n",
    "  #データセットのディレクトリは、画像がサブディレクトリに分類されている必要があります。\n",
    "  validation_split=0.2,\n",
    "  subset=\"validation\",\n",
    "  seed=123,\n",
    "  image_size=image_size,\n",
    "  batch_size=batch_size\n",
    ")\n"
   ]
  },
  {
   "cell_type": "code",
   "execution_count": 25,
   "id": "deddcf87",
   "metadata": {},
   "outputs": [],
   "source": [
    "model = models.Sequential([\n",
    "  layers.Rescaling(1./255, input_shape=(180, 180, 3)),# 画像のピクセル値を0-1にスケーリング　#input_shape=(180, 180, 3)これは、入力画像の形状を指定します。180x180ピクセル、3チャンネル（RGB）です。\n",
    "  # 画像のピクセル値を0-1にスケーリングします。\n",
    "  layers.Conv2D(16, 3, padding='same', activation='relu'),# 畳み込み層を追加します。16個のフィルター、3x3のカーネルサイズ、パディングは'same'、活性化関数はReLUです。\n",
    "  layers.MaxPooling2D(),# プーリング層を追加します。プーリングサイズはデフォルトの2x2です。\n",
    "  layers.Conv2D(32, 3, padding='same', activation='relu'),# 畳み込み層を追加します。32個のフィルター、3x3のカーネルサイズ、パディングは'same'、活性化関数はReLUです。\n",
    "  layers.MaxPooling2D(),# プーリング層を追加します。プーリングサイズはデフォルトの2x2です。\n",
    "  layers.Conv2D(64, 3, padding='same', activation='relu'),# 畳み込み層を追加します。64個のフィルター、3x3のカーネルサイズ、パディングは'same'、活性化関数はReLUです。\n",
    "  layers.MaxPooling2D(),# プーリング層を追加します。プーリングサイズはデフォルトの2x2です。\n",
    "  layers.Flatten(),# 畳み込み層の出力を1次元に変換します。\n",
    "  layers.Dense(128, activation='relu'),# 全結合層を追加します。128ユニット、活性化関数はReLUです。\n",
    "  layers.Dense(5)# クラス数に合わせて変更# 出力層を追加します。クラス数は3です（例：猫、犬、鳥など）。\n",
    "])\n"
   ]
  },
  {
   "cell_type": "code",
   "execution_count": 26,
   "id": "eb4b5fd9",
   "metadata": {},
   "outputs": [
    {
     "name": "stdout",
     "output_type": "stream",
     "text": [
      "Epoch 1/10\n",
      "\u001b[1m3/3\u001b[0m \u001b[32m━━━━━━━━━━━━━━━━━━━━\u001b[0m\u001b[37m\u001b[0m \u001b[1m2s\u001b[0m 320ms/step - accuracy: 0.1859 - loss: 3.2610 - val_accuracy: 0.3500 - val_loss: 2.0847\n",
      "Epoch 2/10\n",
      "\u001b[1m3/3\u001b[0m \u001b[32m━━━━━━━━━━━━━━━━━━━━\u001b[0m\u001b[37m\u001b[0m \u001b[1m1s\u001b[0m 230ms/step - accuracy: 0.2836 - loss: 2.0867 - val_accuracy: 0.3500 - val_loss: 1.3338\n",
      "Epoch 3/10\n",
      "\u001b[1m3/3\u001b[0m \u001b[32m━━━━━━━━━━━━━━━━━━━━\u001b[0m\u001b[37m\u001b[0m \u001b[1m1s\u001b[0m 219ms/step - accuracy: 0.3086 - loss: 1.3809 - val_accuracy: 0.4000 - val_loss: 1.5152\n",
      "Epoch 4/10\n",
      "\u001b[1m3/3\u001b[0m \u001b[32m━━━━━━━━━━━━━━━━━━━━\u001b[0m\u001b[37m\u001b[0m \u001b[1m1s\u001b[0m 220ms/step - accuracy: 0.3266 - loss: 1.4828 - val_accuracy: 0.4000 - val_loss: 1.4228\n",
      "Epoch 5/10\n",
      "\u001b[1m3/3\u001b[0m \u001b[32m━━━━━━━━━━━━━━━━━━━━\u001b[0m\u001b[37m\u001b[0m \u001b[1m1s\u001b[0m 221ms/step - accuracy: 0.3508 - loss: 1.3304 - val_accuracy: 0.4000 - val_loss: 1.4215\n",
      "Epoch 6/10\n",
      "\u001b[1m3/3\u001b[0m \u001b[32m━━━━━━━━━━━━━━━━━━━━\u001b[0m\u001b[37m\u001b[0m \u001b[1m1s\u001b[0m 224ms/step - accuracy: 0.4531 - loss: 1.2981 - val_accuracy: 0.4000 - val_loss: 1.3184\n",
      "Epoch 7/10\n",
      "\u001b[1m3/3\u001b[0m \u001b[32m━━━━━━━━━━━━━━━━━━━━\u001b[0m\u001b[37m\u001b[0m \u001b[1m1s\u001b[0m 249ms/step - accuracy: 0.6289 - loss: 1.1901 - val_accuracy: 0.4500 - val_loss: 1.3395\n",
      "Epoch 8/10\n",
      "\u001b[1m3/3\u001b[0m \u001b[32m━━━━━━━━━━━━━━━━━━━━\u001b[0m\u001b[37m\u001b[0m \u001b[1m2s\u001b[0m 500ms/step - accuracy: 0.5445 - loss: 1.1317 - val_accuracy: 0.2000 - val_loss: 1.3503\n",
      "Epoch 9/10\n",
      "\u001b[1m3/3\u001b[0m \u001b[32m━━━━━━━━━━━━━━━━━━━━\u001b[0m\u001b[37m\u001b[0m \u001b[1m2s\u001b[0m 384ms/step - accuracy: 0.6227 - loss: 1.0149 - val_accuracy: 0.5500 - val_loss: 1.2414\n",
      "Epoch 10/10\n",
      "\u001b[1m3/3\u001b[0m \u001b[32m━━━━━━━━━━━━━━━━━━━━\u001b[0m\u001b[37m\u001b[0m \u001b[1m1s\u001b[0m 362ms/step - accuracy: 0.8609 - loss: 0.8562 - val_accuracy: 0.4500 - val_loss: 1.2554\n"
     ]
    }
   ],
   "source": [
    "model.compile(optimizer='adam',# オプティマイザをAdamに設定します。\n",
    "              loss=tf.keras.losses.SparseCategoricalCrossentropy(from_logits=True),# 損失関数をSparseCategoricalCrossentropyに設定します。from_logits=Trueは、出力がロジットであることを示します。\n",
    "              \n",
    "              metrics=['accuracy'])# 評価指標として精度を使用します。\n",
    "\n",
    "history = model.fit(# モデルをトレーニングします。\n",
    "  train_ds,# トレーニングデータセットを指定します。\n",
    "  validation_data=val_ds,# 検証データセットを指定します。\n",
    "  epochs=10# エポック数を10に設定します。\n",
    ")\n"
   ]
  },
  {
   "cell_type": "code",
   "execution_count": 28,
   "id": "8e0b440e",
   "metadata": {},
   "outputs": [
    {
     "name": "stdout",
     "output_type": "stream",
     "text": [
      "INFO:tensorflow:Assets written to: my_model/assets\n"
     ]
    },
    {
     "name": "stderr",
     "output_type": "stream",
     "text": [
      "INFO:tensorflow:Assets written to: my_model/assets\n"
     ]
    },
    {
     "name": "stdout",
     "output_type": "stream",
     "text": [
      "Saved artifact at 'my_model'. The following endpoints are available:\n",
      "\n",
      "* Endpoint 'serve'\n",
      "  args_0 (POSITIONAL_ONLY): TensorSpec(shape=(None, 180, 180, 3), dtype=tf.float32, name='keras_tensor_33')\n",
      "Output Type:\n",
      "  TensorSpec(shape=(None, 5), dtype=tf.float32, name=None)\n",
      "Captures:\n",
      "  4542463168: TensorSpec(shape=(), dtype=tf.resource, name=None)\n",
      "  12205471728: TensorSpec(shape=(), dtype=tf.resource, name=None)\n",
      "  12205472432: TensorSpec(shape=(), dtype=tf.resource, name=None)\n",
      "  12205494992: TensorSpec(shape=(), dtype=tf.resource, name=None)\n",
      "  12205494464: TensorSpec(shape=(), dtype=tf.resource, name=None)\n",
      "  12205490416: TensorSpec(shape=(), dtype=tf.resource, name=None)\n",
      "  12205493056: TensorSpec(shape=(), dtype=tf.resource, name=None)\n",
      "  12205494640: TensorSpec(shape=(), dtype=tf.resource, name=None)\n",
      "  12205496224: TensorSpec(shape=(), dtype=tf.resource, name=None)\n",
      "  12205495520: TensorSpec(shape=(), dtype=tf.resource, name=None)\n"
     ]
    }
   ],
   "source": [
    "model.export(\"my_model\")  # 通常保存\n"
   ]
  },
  {
   "cell_type": "code",
   "execution_count": 29,
   "id": "2eb9e0c0",
   "metadata": {},
   "outputs": [
    {
     "name": "stderr",
     "output_type": "stream",
     "text": [
      "WARNING: All log messages before absl::InitializeLog() is called are written to STDERR\n",
      "W0000 00:00:1748429470.107346 24007119 tf_tfl_flatbuffer_helpers.cc:365] Ignored output_format.\n",
      "W0000 00:00:1748429470.107995 24007119 tf_tfl_flatbuffer_helpers.cc:368] Ignored drop_control_dependency.\n",
      "2025-05-28 19:51:10.111908: I tensorflow/cc/saved_model/reader.cc:83] Reading SavedModel from: my_model\n",
      "2025-05-28 19:51:10.112808: I tensorflow/cc/saved_model/reader.cc:52] Reading meta graph with tags { serve }\n",
      "2025-05-28 19:51:10.112816: I tensorflow/cc/saved_model/reader.cc:147] Reading SavedModel debug info (if present) from: my_model\n",
      "I0000 00:00:1748429470.122355 24007119 mlir_graph_optimization_pass.cc:425] MLIR V1 optimization pass is not enabled\n",
      "2025-05-28 19:51:10.123861: I tensorflow/cc/saved_model/loader.cc:236] Restoring SavedModel bundle.\n",
      "2025-05-28 19:51:10.226274: I tensorflow/cc/saved_model/loader.cc:220] Running initialization op on SavedModel bundle at path: my_model\n",
      "2025-05-28 19:51:10.240806: I tensorflow/cc/saved_model/loader.cc:471] SavedModel load for tags { serve }; Status: success: OK. Took 128899 microseconds.\n",
      "2025-05-28 19:51:10.297433: I tensorflow/compiler/mlir/tensorflow/utils/dump_mlir_util.cc:269] disabling MLIR crash reproducer, set env var `MLIR_CRASH_REPRODUCER_DIRECTORY` to enable.\n"
     ]
    }
   ],
   "source": [
    "converter = tf.lite.TFLiteConverter.from_saved_model(\"my_model\")# TFLiteConverterを使用して、保存されたモデルをTFLite形式に変換します。\n",
    "converter.optimizations = [tf.lite.Optimize.DEFAULT]  # 最適化を有効にします。\n",
    "converter.target_spec.supported_types = [tf.float16]  # 出力のデータ型をfloat16に設定します。\n",
    "# TFLiteConverterを使用して、保存されたモデルをTFLite形式に変換します。\n",
    "tflite_model = converter.convert()  # モデルをTFLite形式に変換します。\n",
    "\n",
    "with open(\"model.tflite\", \"wb\") as f:# 変換されたTFLiteモデルをファイルに保存します。\n",
    "  # ファイル名を指定して、バイナリモードで開きます。\n",
    "    f.write(tflite_model)\n"
   ]
  }
 ],
 "metadata": {
  "kernelspec": {
   "display_name": ".venv",
   "language": "python",
   "name": "python3"
  },
  "language_info": {
   "codemirror_mode": {
    "name": "ipython",
    "version": 3
   },
   "file_extension": ".py",
   "mimetype": "text/x-python",
   "name": "python",
   "nbconvert_exporter": "python",
   "pygments_lexer": "ipython3",
   "version": "3.10.1"
  }
 },
 "nbformat": 4,
 "nbformat_minor": 5
}
