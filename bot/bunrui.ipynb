{
 "cells": [
  {
   "cell_type": "code",
   "execution_count": 50,
   "id": "e32dcc4b",
   "metadata": {},
   "outputs": [
    {
     "name": "stdout",
     "output_type": "stream",
     "text": [
      "Requirement already satisfied: tensorflow in /Users/fukasakai/Hack-1_2025/.venv/lib/python3.10/site-packages (2.19.0)\n",
      "Requirement already satisfied: opt-einsum>=2.3.2 in /Users/fukasakai/Hack-1_2025/.venv/lib/python3.10/site-packages (from tensorflow) (3.4.0)\n",
      "Requirement already satisfied: flatbuffers>=24.3.25 in /Users/fukasakai/Hack-1_2025/.venv/lib/python3.10/site-packages (from tensorflow) (25.2.10)\n",
      "Requirement already satisfied: six>=1.12.0 in /Users/fukasakai/Hack-1_2025/.venv/lib/python3.10/site-packages (from tensorflow) (1.17.0)\n",
      "Requirement already satisfied: keras>=3.5.0 in /Users/fukasakai/Hack-1_2025/.venv/lib/python3.10/site-packages (from tensorflow) (3.10.0)\n",
      "Requirement already satisfied: astunparse>=1.6.0 in /Users/fukasakai/Hack-1_2025/.venv/lib/python3.10/site-packages (from tensorflow) (1.6.3)\n",
      "Requirement already satisfied: requests<3,>=2.21.0 in /Users/fukasakai/Hack-1_2025/.venv/lib/python3.10/site-packages (from tensorflow) (2.32.3)\n",
      "Requirement already satisfied: termcolor>=1.1.0 in /Users/fukasakai/Hack-1_2025/.venv/lib/python3.10/site-packages (from tensorflow) (3.1.0)\n",
      "Requirement already satisfied: protobuf!=4.21.0,!=4.21.1,!=4.21.2,!=4.21.3,!=4.21.4,!=4.21.5,<6.0.0dev,>=3.20.3 in /Users/fukasakai/Hack-1_2025/.venv/lib/python3.10/site-packages (from tensorflow) (5.29.4)\n",
      "Requirement already satisfied: absl-py>=1.0.0 in /Users/fukasakai/Hack-1_2025/.venv/lib/python3.10/site-packages (from tensorflow) (2.2.2)\n",
      "Requirement already satisfied: ml-dtypes<1.0.0,>=0.5.1 in /Users/fukasakai/Hack-1_2025/.venv/lib/python3.10/site-packages (from tensorflow) (0.5.1)\n",
      "Requirement already satisfied: grpcio<2.0,>=1.24.3 in /Users/fukasakai/Hack-1_2025/.venv/lib/python3.10/site-packages (from tensorflow) (1.71.0)\n",
      "Requirement already satisfied: tensorboard~=2.19.0 in /Users/fukasakai/Hack-1_2025/.venv/lib/python3.10/site-packages (from tensorflow) (2.19.0)\n",
      "Requirement already satisfied: libclang>=13.0.0 in /Users/fukasakai/Hack-1_2025/.venv/lib/python3.10/site-packages (from tensorflow) (18.1.1)\n",
      "Requirement already satisfied: h5py>=3.11.0 in /Users/fukasakai/Hack-1_2025/.venv/lib/python3.10/site-packages (from tensorflow) (3.13.0)\n",
      "Requirement already satisfied: numpy<2.2.0,>=1.26.0 in /Users/fukasakai/Hack-1_2025/.venv/lib/python3.10/site-packages (from tensorflow) (2.1.3)\n",
      "Requirement already satisfied: setuptools in /Users/fukasakai/Hack-1_2025/.venv/lib/python3.10/site-packages (from tensorflow) (58.1.0)\n",
      "Requirement already satisfied: wrapt>=1.11.0 in /Users/fukasakai/Hack-1_2025/.venv/lib/python3.10/site-packages (from tensorflow) (1.17.2)\n",
      "Requirement already satisfied: typing-extensions>=3.6.6 in /Users/fukasakai/Hack-1_2025/.venv/lib/python3.10/site-packages (from tensorflow) (4.13.2)\n",
      "Requirement already satisfied: packaging in /Users/fukasakai/Hack-1_2025/.venv/lib/python3.10/site-packages (from tensorflow) (25.0)\n",
      "Requirement already satisfied: tensorflow-io-gcs-filesystem>=0.23.1 in /Users/fukasakai/Hack-1_2025/.venv/lib/python3.10/site-packages (from tensorflow) (0.37.1)\n",
      "Requirement already satisfied: gast!=0.5.0,!=0.5.1,!=0.5.2,>=0.2.1 in /Users/fukasakai/Hack-1_2025/.venv/lib/python3.10/site-packages (from tensorflow) (0.6.0)\n",
      "Requirement already satisfied: google-pasta>=0.1.1 in /Users/fukasakai/Hack-1_2025/.venv/lib/python3.10/site-packages (from tensorflow) (0.2.0)\n",
      "Requirement already satisfied: wheel<1.0,>=0.23.0 in /Users/fukasakai/Hack-1_2025/.venv/lib/python3.10/site-packages (from astunparse>=1.6.0->tensorflow) (0.45.1)\n",
      "Requirement already satisfied: optree in /Users/fukasakai/Hack-1_2025/.venv/lib/python3.10/site-packages (from keras>=3.5.0->tensorflow) (0.15.0)\n",
      "Requirement already satisfied: rich in /Users/fukasakai/Hack-1_2025/.venv/lib/python3.10/site-packages (from keras>=3.5.0->tensorflow) (14.0.0)\n",
      "Requirement already satisfied: namex in /Users/fukasakai/Hack-1_2025/.venv/lib/python3.10/site-packages (from keras>=3.5.0->tensorflow) (0.0.9)\n",
      "Requirement already satisfied: idna<4,>=2.5 in /Users/fukasakai/Hack-1_2025/.venv/lib/python3.10/site-packages (from requests<3,>=2.21.0->tensorflow) (3.10)\n",
      "Requirement already satisfied: certifi>=2017.4.17 in /Users/fukasakai/Hack-1_2025/.venv/lib/python3.10/site-packages (from requests<3,>=2.21.0->tensorflow) (2025.4.26)\n",
      "Requirement already satisfied: charset-normalizer<4,>=2 in /Users/fukasakai/Hack-1_2025/.venv/lib/python3.10/site-packages (from requests<3,>=2.21.0->tensorflow) (3.4.2)\n",
      "Requirement already satisfied: urllib3<3,>=1.21.1 in /Users/fukasakai/Hack-1_2025/.venv/lib/python3.10/site-packages (from requests<3,>=2.21.0->tensorflow) (2.4.0)\n",
      "Requirement already satisfied: markdown>=2.6.8 in /Users/fukasakai/Hack-1_2025/.venv/lib/python3.10/site-packages (from tensorboard~=2.19.0->tensorflow) (3.8)\n",
      "Requirement already satisfied: werkzeug>=1.0.1 in /Users/fukasakai/Hack-1_2025/.venv/lib/python3.10/site-packages (from tensorboard~=2.19.0->tensorflow) (3.1.3)\n",
      "Requirement already satisfied: tensorboard-data-server<0.8.0,>=0.7.0 in /Users/fukasakai/Hack-1_2025/.venv/lib/python3.10/site-packages (from tensorboard~=2.19.0->tensorflow) (0.7.2)\n",
      "Requirement already satisfied: MarkupSafe>=2.1.1 in /Users/fukasakai/Hack-1_2025/.venv/lib/python3.10/site-packages (from werkzeug>=1.0.1->tensorboard~=2.19.0->tensorflow) (3.0.2)\n",
      "Requirement already satisfied: markdown-it-py>=2.2.0 in /Users/fukasakai/Hack-1_2025/.venv/lib/python3.10/site-packages (from rich->keras>=3.5.0->tensorflow) (3.0.0)\n",
      "Requirement already satisfied: pygments<3.0.0,>=2.13.0 in /Users/fukasakai/Hack-1_2025/.venv/lib/python3.10/site-packages (from rich->keras>=3.5.0->tensorflow) (2.19.1)\n",
      "Requirement already satisfied: mdurl~=0.1 in /Users/fukasakai/Hack-1_2025/.venv/lib/python3.10/site-packages (from markdown-it-py>=2.2.0->rich->keras>=3.5.0->tensorflow) (0.1.2)\n",
      "\u001b[33mWARNING: You are using pip version 21.2.4; however, version 25.1.1 is available.\n",
      "You should consider upgrading via the '/Users/fukasakai/Hack-1_2025/.venv/bin/python -m pip install --upgrade pip' command.\u001b[0m\n",
      "Note: you may need to restart the kernel to use updated packages.\n"
     ]
    }
   ],
   "source": [
    "pip install tensorflow\n"
   ]
  },
  {
   "cell_type": "code",
   "execution_count": 51,
   "id": "026cd406",
   "metadata": {},
   "outputs": [
    {
     "name": "stdout",
     "output_type": "stream",
     "text": [
      "Requirement already satisfied: matplotlib in /Users/fukasakai/Hack-1_2025/.venv/lib/python3.10/site-packages (3.10.3)\n",
      "Requirement already satisfied: numpy>=1.23 in /Users/fukasakai/Hack-1_2025/.venv/lib/python3.10/site-packages (from matplotlib) (2.1.3)\n",
      "Requirement already satisfied: contourpy>=1.0.1 in /Users/fukasakai/Hack-1_2025/.venv/lib/python3.10/site-packages (from matplotlib) (1.3.2)\n",
      "Requirement already satisfied: python-dateutil>=2.7 in /Users/fukasakai/Hack-1_2025/.venv/lib/python3.10/site-packages (from matplotlib) (2.9.0.post0)\n",
      "Requirement already satisfied: pillow>=8 in /Users/fukasakai/Hack-1_2025/.venv/lib/python3.10/site-packages (from matplotlib) (11.2.1)\n",
      "Requirement already satisfied: cycler>=0.10 in /Users/fukasakai/Hack-1_2025/.venv/lib/python3.10/site-packages (from matplotlib) (0.12.1)\n",
      "Requirement already satisfied: packaging>=20.0 in /Users/fukasakai/Hack-1_2025/.venv/lib/python3.10/site-packages (from matplotlib) (25.0)\n",
      "Requirement already satisfied: pyparsing>=2.3.1 in /Users/fukasakai/Hack-1_2025/.venv/lib/python3.10/site-packages (from matplotlib) (3.2.3)\n",
      "Requirement already satisfied: kiwisolver>=1.3.1 in /Users/fukasakai/Hack-1_2025/.venv/lib/python3.10/site-packages (from matplotlib) (1.4.8)\n",
      "Requirement already satisfied: fonttools>=4.22.0 in /Users/fukasakai/Hack-1_2025/.venv/lib/python3.10/site-packages (from matplotlib) (4.58.0)\n",
      "Requirement already satisfied: six>=1.5 in /Users/fukasakai/Hack-1_2025/.venv/lib/python3.10/site-packages (from python-dateutil>=2.7->matplotlib) (1.17.0)\n",
      "\u001b[33mWARNING: You are using pip version 21.2.4; however, version 25.1.1 is available.\n",
      "You should consider upgrading via the '/Users/fukasakai/Hack-1_2025/.venv/bin/python -m pip install --upgrade pip' command.\u001b[0m\n",
      "Note: you may need to restart the kernel to use updated packages.\n"
     ]
    }
   ],
   "source": [
    "pip install matplotlib"
   ]
  },
  {
   "cell_type": "code",
   "execution_count": 52,
   "id": "069adbdd",
   "metadata": {},
   "outputs": [],
   "source": [
    "import tensorflow as tf\n",
    "from tensorflow.keras import layers, models\n",
    "import matplotlib.pyplot as plt\n",
    "import numpy as np\n",
    "import os\n"
   ]
  },
  {
   "cell_type": "code",
   "execution_count": 53,
   "id": "d00e52cb",
   "metadata": {},
   "outputs": [
    {
     "name": "stdout",
     "output_type": "stream",
     "text": [
      "Found 100 files belonging to 5 classes.\n",
      "Using 80 files for training.\n",
      "Found 100 files belonging to 5 classes.\n",
      "Using 20 files for validation.\n"
     ]
    }
   ],
   "source": [
    "image_size = (180, 180)\n",
    "batch_size = 32\n",
    "#クラス数は、データセットのサブディレクトリの数に基づいて自動的に決定されます。\n",
    "train_ds = tf.keras.utils.image_dataset_from_directory(\n",
    "    #これは、データセットのディレクトリを指定します。\n",
    "  \"/Users/fukasakai/Hack-1_2025/gazou_bunnrui\",\n",
    "  #データセットのディレクトリは、画像がサブディレクトリに分類されている必要があります。\n",
    "  validation_split=0.2,\n",
    "  subset=\"training\",\n",
    "  #データセットの分割を指定します。ここでは、80%をトレーニング用、20%を検証用に使用します。\n",
    "  #ランダムなシードを指定します。これにより、データセットの分割が再現可能になります。\n",
    "  seed=123,\n",
    "  image_size=image_size,  #画像のサイズを指定します。ここでは、180x180ピクセルにリサイズされます。\n",
    "  #画像のサイズを指定します。ここでは、180x180ピクセルにリサイズされます。\n",
    "  #バッチサイズを指定します。ここでは、32枚の画像を1つのバッチとして処理します。\n",
    "  #バッチサイズを指定します。ここでは、32枚の画像を1つのバッチとして処理します。\n",
    "  batch_size=batch_size\n",
    ")\n",
    "\n",
    "val_ds = tf.keras.utils.image_dataset_from_directory(\n",
    "  #データセットのディレクトリを指定します。\n",
    "  \"/Users/fukasakai/Hack-1_2025/gazou_bunnrui\", \n",
    "  #データセットのディレクトリは、画像がサブディレクトリに分類されている必要があります。\n",
    "  validation_split=0.2,\n",
    "  subset=\"validation\",\n",
    "  seed=123,\n",
    "  image_size=image_size,\n",
    "  batch_size=batch_size\n",
    ")\n"
   ]
  },
  {
   "cell_type": "code",
   "execution_count": 54,
   "id": "deddcf87",
   "metadata": {},
   "outputs": [
    {
     "name": "stderr",
     "output_type": "stream",
     "text": [
      "/Users/fukasakai/Hack-1_2025/.venv/lib/python3.10/site-packages/keras/src/layers/preprocessing/tf_data_layer.py:19: UserWarning: Do not pass an `input_shape`/`input_dim` argument to a layer. When using Sequential models, prefer using an `Input(shape)` object as the first layer in the model instead.\n",
      "  super().__init__(**kwargs)\n"
     ]
    }
   ],
   "source": [
    "model = models.Sequential([\n",
    "  layers.Rescaling(1./255, input_shape=(180, 180, 3)),# 画像のピクセル値を0-1にスケーリング　#input_shape=(180, 180, 3)これは、入力画像の形状を指定します。180x180ピクセル、3チャンネル（RGB）です。\n",
    "  # 画像のピクセル値を0-1にスケーリングします。\n",
    "  layers.Conv2D(16, 3, padding='same', activation='relu'),# 畳み込み層を追加します。16個のフィルター、3x3のカーネルサイズ、パディングは'same'、活性化関数はReLUです。\n",
    "  layers.MaxPooling2D(),# プーリング層を追加します。プーリングサイズはデフォルトの2x2です。\n",
    "  layers.Conv2D(32, 3, padding='same', activation='relu'),# 畳み込み層を追加します。32個のフィルター、3x3のカーネルサイズ、パディングは'same'、活性化関数はReLUです。\n",
    "  layers.MaxPooling2D(),# プーリング層を追加します。プーリングサイズはデフォルトの2x2です。\n",
    "  layers.Conv2D(64, 3, padding='same', activation='relu'),# 畳み込み層を追加します。64個のフィルター、3x3のカーネルサイズ、パディングは'same'、活性化関数はReLUです。\n",
    "  layers.MaxPooling2D(),# プーリング層を追加します。プーリングサイズはデフォルトの2x2です。\n",
    "  layers.Flatten(),# 畳み込み層の出力を1次元に変換します。\n",
    "  layers.Dense(128, activation='relu'),# 全結合層を追加します。128ユニット、活性化関数はReLUです。\n",
    "  layers.Dense(5)# クラス数に合わせて変更# 出力層を追加します。クラス数は3です（例：猫、犬、鳥など）。\n",
    "])\n"
   ]
  },
  {
   "cell_type": "code",
   "execution_count": 55,
   "id": "eb4b5fd9",
   "metadata": {},
   "outputs": [
    {
     "name": "stdout",
     "output_type": "stream",
     "text": [
      "Epoch 1/10\n",
      "\u001b[1m3/3\u001b[0m \u001b[32m━━━━━━━━━━━━━━━━━━━━\u001b[0m\u001b[37m\u001b[0m \u001b[1m3s\u001b[0m 610ms/step - accuracy: 0.1961 - loss: 1.9794 - val_accuracy: 0.3500 - val_loss: 1.8938\n",
      "Epoch 2/10\n",
      "\u001b[1m3/3\u001b[0m \u001b[32m━━━━━━━━━━━━━━━━━━━━\u001b[0m\u001b[37m\u001b[0m \u001b[1m2s\u001b[0m 514ms/step - accuracy: 0.4180 - loss: 1.6024 - val_accuracy: 0.3000 - val_loss: 1.4319\n",
      "Epoch 3/10\n",
      "\u001b[1m3/3\u001b[0m \u001b[32m━━━━━━━━━━━━━━━━━━━━\u001b[0m\u001b[37m\u001b[0m \u001b[1m2s\u001b[0m 537ms/step - accuracy: 0.5328 - loss: 1.3181 - val_accuracy: 0.4000 - val_loss: 1.4039\n",
      "Epoch 4/10\n",
      "\u001b[1m3/3\u001b[0m \u001b[32m━━━━━━━━━━━━━━━━━━━━\u001b[0m\u001b[37m\u001b[0m \u001b[1m1s\u001b[0m 371ms/step - accuracy: 0.3773 - loss: 1.2458 - val_accuracy: 0.1500 - val_loss: 1.4060\n",
      "Epoch 5/10\n",
      "\u001b[1m3/3\u001b[0m \u001b[32m━━━━━━━━━━━━━━━━━━━━\u001b[0m\u001b[37m\u001b[0m \u001b[1m2s\u001b[0m 757ms/step - accuracy: 0.5727 - loss: 1.1374 - val_accuracy: 0.4000 - val_loss: 1.3065\n",
      "Epoch 6/10\n",
      "\u001b[1m3/3\u001b[0m \u001b[32m━━━━━━━━━━━━━━━━━━━━\u001b[0m\u001b[37m\u001b[0m \u001b[1m3s\u001b[0m 791ms/step - accuracy: 0.8687 - loss: 1.0079 - val_accuracy: 0.4000 - val_loss: 1.3694\n",
      "Epoch 7/10\n",
      "\u001b[1m3/3\u001b[0m \u001b[32m━━━━━━━━━━━━━━━━━━━━\u001b[0m\u001b[37m\u001b[0m \u001b[1m2s\u001b[0m 484ms/step - accuracy: 0.8125 - loss: 0.8595 - val_accuracy: 0.5500 - val_loss: 1.2710\n",
      "Epoch 8/10\n",
      "\u001b[1m3/3\u001b[0m \u001b[32m━━━━━━━━━━━━━━━━━━━━\u001b[0m\u001b[37m\u001b[0m \u001b[1m2s\u001b[0m 463ms/step - accuracy: 0.8117 - loss: 0.7084 - val_accuracy: 0.3500 - val_loss: 1.3071\n",
      "Epoch 9/10\n",
      "\u001b[1m3/3\u001b[0m \u001b[32m━━━━━━━━━━━━━━━━━━━━\u001b[0m\u001b[37m\u001b[0m \u001b[1m3s\u001b[0m 924ms/step - accuracy: 0.6836 - loss: 0.6661 - val_accuracy: 0.4000 - val_loss: 1.3646\n",
      "Epoch 10/10\n",
      "\u001b[1m3/3\u001b[0m \u001b[32m━━━━━━━━━━━━━━━━━━━━\u001b[0m\u001b[37m\u001b[0m \u001b[1m4s\u001b[0m 755ms/step - accuracy: 0.8648 - loss: 0.4718 - val_accuracy: 0.4000 - val_loss: 1.4131\n"
     ]
    }
   ],
   "source": [
    "model.compile(optimizer='adam',# オプティマイザをAdamに設定します。\n",
    "              loss=tf.keras.losses.SparseCategoricalCrossentropy(from_logits=True),# 損失関数をSparseCategoricalCrossentropyに設定します。from_logits=Trueは、出力がロジットであることを示します。\n",
    "              \n",
    "              metrics=['accuracy'])# 評価指標として精度を使用します。\n",
    "\n",
    "history = model.fit(# モデルをトレーニングします。\n",
    "  train_ds,# トレーニングデータセットを指定します。\n",
    "  validation_data=val_ds,# 検証データセットを指定します。\n",
    "  epochs=10# エポック数を10に設定します。\n",
    ")\n"
   ]
  },
  {
   "cell_type": "code",
   "execution_count": 56,
   "id": "8e0b440e",
   "metadata": {},
   "outputs": [
    {
     "name": "stdout",
     "output_type": "stream",
     "text": [
      "INFO:tensorflow:Assets written to: my_model/assets\n"
     ]
    },
    {
     "name": "stderr",
     "output_type": "stream",
     "text": [
      "INFO:tensorflow:Assets written to: my_model/assets\n"
     ]
    },
    {
     "name": "stdout",
     "output_type": "stream",
     "text": [
      "Saved artifact at 'my_model'. The following endpoints are available:\n",
      "\n",
      "* Endpoint 'serve'\n",
      "  args_0 (POSITIONAL_ONLY): TensorSpec(shape=(None, 180, 180, 3), dtype=tf.float32, name='keras_tensor_44')\n",
      "Output Type:\n",
      "  TensorSpec(shape=(None, 5), dtype=tf.float32, name=None)\n",
      "Captures:\n",
      "  4542458944: TensorSpec(shape=(), dtype=tf.resource, name=None)\n",
      "  4542384608: TensorSpec(shape=(), dtype=tf.resource, name=None)\n",
      "  4542389712: TensorSpec(shape=(), dtype=tf.resource, name=None)\n",
      "  4542383200: TensorSpec(shape=(), dtype=tf.resource, name=None)\n",
      "  4542396928: TensorSpec(shape=(), dtype=tf.resource, name=None)\n",
      "  4542387248: TensorSpec(shape=(), dtype=tf.resource, name=None)\n",
      "  4542382848: TensorSpec(shape=(), dtype=tf.resource, name=None)\n",
      "  4542397456: TensorSpec(shape=(), dtype=tf.resource, name=None)\n",
      "  4542385840: TensorSpec(shape=(), dtype=tf.resource, name=None)\n",
      "  4497340576: TensorSpec(shape=(), dtype=tf.resource, name=None)\n"
     ]
    }
   ],
   "source": [
    "model.export(\"my_model\")  # 通常保存\n"
   ]
  },
  {
   "cell_type": "code",
   "execution_count": 57,
   "id": "2eb9e0c0",
   "metadata": {},
   "outputs": [
    {
     "name": "stderr",
     "output_type": "stream",
     "text": [
      "W0000 00:00:1748842005.989064 24007119 tf_tfl_flatbuffer_helpers.cc:365] Ignored output_format.\n",
      "W0000 00:00:1748842005.989398 24007119 tf_tfl_flatbuffer_helpers.cc:368] Ignored drop_control_dependency.\n",
      "2025-06-02 14:26:45.989891: I tensorflow/cc/saved_model/reader.cc:83] Reading SavedModel from: my_model\n",
      "2025-06-02 14:26:45.990995: I tensorflow/cc/saved_model/reader.cc:52] Reading meta graph with tags { serve }\n",
      "2025-06-02 14:26:45.991006: I tensorflow/cc/saved_model/reader.cc:147] Reading SavedModel debug info (if present) from: my_model\n",
      "2025-06-02 14:26:46.001297: I tensorflow/cc/saved_model/loader.cc:236] Restoring SavedModel bundle.\n",
      "2025-06-02 14:26:46.076910: I tensorflow/cc/saved_model/loader.cc:220] Running initialization op on SavedModel bundle at path: my_model\n",
      "2025-06-02 14:26:46.096418: I tensorflow/cc/saved_model/loader.cc:471] SavedModel load for tags { serve }; Status: success: OK. Took 106528 microseconds.\n"
     ]
    }
   ],
   "source": [
    "converter = tf.lite.TFLiteConverter.from_saved_model(\"my_model\")# TFLiteConverterを使用して、保存されたモデルをTFLite形式に変換します。\n",
    "converter.optimizations = [tf.lite.Optimize.DEFAULT]  # 最適化を有効にします。\n",
    "converter.target_spec.supported_types = [tf.float16]  # 出力のデータ型をfloat16に設定します。\n",
    "# TFLiteConverterを使用して、保存されたモデルをTFLite形式に変換します。\n",
    "tflite_model = converter.convert()  # モデルをTFLite形式に変換します。\n",
    "\n",
    "with open(\"model.tflite\", \"wb\") as f:# 変換されたTFLiteモデルをファイルに保存します。\n",
    "  # ファイル名を指定して、バイナリモードで開きます。\n",
    "    f.write(tflite_model)\n"
   ]
  },
  {
   "cell_type": "code",
   "execution_count": 58,
   "id": "49426097",
   "metadata": {},
   "outputs": [],
   "source": [
    "from PIL import Image\n",
    "\n",
    "# クラス名一覧を取得\n",
    "class_names = train_ds.class_names\n",
    "import numpy as np\n",
    "# 画像を予測する関数    \n",
    "\n",
    "\n",
    "def predict_image(img_path):\n",
    "    img = Image.open(img_path).convert(\"RGB\").resize(image_size)  # ← ここでRGBに変換\n",
    "    img_array = np.array(img) \n",
    "    img_array = np.expand_dims(img_array, axis=0)\n",
    "\n",
    "    predictions = model.predict(img_array)\n",
    "    predicted_index = np.argmax(predictions)\n",
    "    predicted_class = class_names[predicted_index]\n",
    "    return predicted_class\n",
    "\n",
    "\n"
   ]
  },
  {
   "cell_type": "code",
   "execution_count": 59,
   "id": "1e49c4ea",
   "metadata": {},
   "outputs": [
    {
     "name": "stdout",
     "output_type": "stream",
     "text": [
      "\u001b[1m1/1\u001b[0m \u001b[32m━━━━━━━━━━━━━━━━━━━━\u001b[0m\u001b[37m\u001b[0m \u001b[1m0s\u001b[0m 91ms/step\n",
      "curry\n"
     ]
    }
   ],
   "source": [
    "result = predict_image(\"/Users/fukasakai/Hack-1_2025/test/t_curry.png\")\n",
    "print(result)"
   ]
  },
  {
   "cell_type": "code",
   "execution_count": 60,
   "id": "544b245a",
   "metadata": {},
   "outputs": [
    {
     "name": "stdout",
     "output_type": "stream",
     "text": [
      "\u001b[1m1/1\u001b[0m \u001b[32m━━━━━━━━━━━━━━━━━━━━\u001b[0m\u001b[37m\u001b[0m \u001b[1m0s\u001b[0m 64ms/step\n",
      "/Users/fukasakai/Hack-1_2025/test/t_curry.png => 推論結果: curry\n",
      "\u001b[1m1/1\u001b[0m \u001b[32m━━━━━━━━━━━━━━━━━━━━\u001b[0m\u001b[37m\u001b[0m \u001b[1m0s\u001b[0m 48ms/step\n",
      "/Users/fukasakai/Hack-1_2025/test/t_fried_rice.png => 推論結果: fried_rice\n",
      "\u001b[1m1/1\u001b[0m \u001b[32m━━━━━━━━━━━━━━━━━━━━\u001b[0m\u001b[37m\u001b[0m \u001b[1m0s\u001b[0m 37ms/step\n",
      "/Users/fukasakai/Hack-1_2025/test/t_hamburg_steak.png => 推論結果: curry\n"
     ]
    }
   ],
   "source": [
    "test_images = [\"/Users/fukasakai/Hack-1_2025/test/t_curry.png\", \"/Users/fukasakai/Hack-1_2025/test/t_fried_rice.png\", \"/Users/fukasakai/Hack-1_2025/test/t_hamburg_steak.png\"]\n",
    "\n",
    "for img_path in test_images:\n",
    "    result = predict_image(img_path)\n",
    "    print(f\"{img_path} => 推論結果: {result}\")\n"
   ]
  },
  {
   "cell_type": "code",
   "execution_count": 61,
   "id": "21b43b6e",
   "metadata": {},
   "outputs": [
    {
     "name": "stderr",
     "output_type": "stream",
     "text": [
      "/var/folders/6z/gq5d8mcj0_l_jfw25df7691h0000gn/T/ipykernel_45603/2361787619.py:23: UserWarning: Glyph 12456 (\\N{KATAKANA LETTER E}) missing from font(s) DejaVu Sans.\n",
      "  plt.tight_layout()\n",
      "/var/folders/6z/gq5d8mcj0_l_jfw25df7691h0000gn/T/ipykernel_45603/2361787619.py:23: UserWarning: Glyph 12509 (\\N{KATAKANA LETTER PO}) missing from font(s) DejaVu Sans.\n",
      "  plt.tight_layout()\n",
      "/var/folders/6z/gq5d8mcj0_l_jfw25df7691h0000gn/T/ipykernel_45603/2361787619.py:23: UserWarning: Glyph 12483 (\\N{KATAKANA LETTER SMALL TU}) missing from font(s) DejaVu Sans.\n",
      "  plt.tight_layout()\n",
      "/var/folders/6z/gq5d8mcj0_l_jfw25df7691h0000gn/T/ipykernel_45603/2361787619.py:23: UserWarning: Glyph 12463 (\\N{KATAKANA LETTER KU}) missing from font(s) DejaVu Sans.\n",
      "  plt.tight_layout()\n",
      "/var/folders/6z/gq5d8mcj0_l_jfw25df7691h0000gn/T/ipykernel_45603/2361787619.py:23: UserWarning: Glyph 27491 (\\N{CJK UNIFIED IDEOGRAPH-6B63}) missing from font(s) DejaVu Sans.\n",
      "  plt.tight_layout()\n",
      "/var/folders/6z/gq5d8mcj0_l_jfw25df7691h0000gn/T/ipykernel_45603/2361787619.py:23: UserWarning: Glyph 35299 (\\N{CJK UNIFIED IDEOGRAPH-89E3}) missing from font(s) DejaVu Sans.\n",
      "  plt.tight_layout()\n",
      "/var/folders/6z/gq5d8mcj0_l_jfw25df7691h0000gn/T/ipykernel_45603/2361787619.py:23: UserWarning: Glyph 29575 (\\N{CJK UNIFIED IDEOGRAPH-7387}) missing from font(s) DejaVu Sans.\n",
      "  plt.tight_layout()\n",
      "/var/folders/6z/gq5d8mcj0_l_jfw25df7691h0000gn/T/ipykernel_45603/2361787619.py:23: UserWarning: Glyph 12514 (\\N{KATAKANA LETTER MO}) missing from font(s) DejaVu Sans.\n",
      "  plt.tight_layout()\n",
      "/var/folders/6z/gq5d8mcj0_l_jfw25df7691h0000gn/T/ipykernel_45603/2361787619.py:23: UserWarning: Glyph 12487 (\\N{KATAKANA LETTER DE}) missing from font(s) DejaVu Sans.\n",
      "  plt.tight_layout()\n",
      "/var/folders/6z/gq5d8mcj0_l_jfw25df7691h0000gn/T/ipykernel_45603/2361787619.py:23: UserWarning: Glyph 12523 (\\N{KATAKANA LETTER RU}) missing from font(s) DejaVu Sans.\n",
      "  plt.tight_layout()\n",
      "/var/folders/6z/gq5d8mcj0_l_jfw25df7691h0000gn/T/ipykernel_45603/2361787619.py:23: UserWarning: Glyph 31934 (\\N{CJK UNIFIED IDEOGRAPH-7CBE}) missing from font(s) DejaVu Sans.\n",
      "  plt.tight_layout()\n",
      "/var/folders/6z/gq5d8mcj0_l_jfw25df7691h0000gn/T/ipykernel_45603/2361787619.py:23: UserWarning: Glyph 24230 (\\N{CJK UNIFIED IDEOGRAPH-5EA6}) missing from font(s) DejaVu Sans.\n",
      "  plt.tight_layout()\n",
      "/var/folders/6z/gq5d8mcj0_l_jfw25df7691h0000gn/T/ipykernel_45603/2361787619.py:23: UserWarning: Glyph 12398 (\\N{HIRAGANA LETTER NO}) missing from font(s) DejaVu Sans.\n",
      "  plt.tight_layout()\n",
      "/var/folders/6z/gq5d8mcj0_l_jfw25df7691h0000gn/T/ipykernel_45603/2361787619.py:23: UserWarning: Glyph 25512 (\\N{CJK UNIFIED IDEOGRAPH-63A8}) missing from font(s) DejaVu Sans.\n",
      "  plt.tight_layout()\n",
      "/var/folders/6z/gq5d8mcj0_l_jfw25df7691h0000gn/T/ipykernel_45603/2361787619.py:23: UserWarning: Glyph 31227 (\\N{CJK UNIFIED IDEOGRAPH-79FB}) missing from font(s) DejaVu Sans.\n",
      "  plt.tight_layout()\n",
      "/var/folders/6z/gq5d8mcj0_l_jfw25df7691h0000gn/T/ipykernel_45603/2361787619.py:23: UserWarning: Glyph 35347 (\\N{CJK UNIFIED IDEOGRAPH-8A13}) missing from font(s) DejaVu Sans.\n",
      "  plt.tight_layout()\n",
      "/var/folders/6z/gq5d8mcj0_l_jfw25df7691h0000gn/T/ipykernel_45603/2361787619.py:23: UserWarning: Glyph 32244 (\\N{CJK UNIFIED IDEOGRAPH-7DF4}) missing from font(s) DejaVu Sans.\n",
      "  plt.tight_layout()\n",
      "/var/folders/6z/gq5d8mcj0_l_jfw25df7691h0000gn/T/ipykernel_45603/2361787619.py:23: UserWarning: Glyph 26908 (\\N{CJK UNIFIED IDEOGRAPH-691C}) missing from font(s) DejaVu Sans.\n",
      "  plt.tight_layout()\n",
      "/var/folders/6z/gq5d8mcj0_l_jfw25df7691h0000gn/T/ipykernel_45603/2361787619.py:23: UserWarning: Glyph 35388 (\\N{CJK UNIFIED IDEOGRAPH-8A3C}) missing from font(s) DejaVu Sans.\n",
      "  plt.tight_layout()\n",
      "/var/folders/6z/gq5d8mcj0_l_jfw25df7691h0000gn/T/ipykernel_45603/2361787619.py:23: UserWarning: Glyph 25613 (\\N{CJK UNIFIED IDEOGRAPH-640D}) missing from font(s) DejaVu Sans.\n",
      "  plt.tight_layout()\n",
      "/var/folders/6z/gq5d8mcj0_l_jfw25df7691h0000gn/T/ipykernel_45603/2361787619.py:23: UserWarning: Glyph 22833 (\\N{CJK UNIFIED IDEOGRAPH-5931}) missing from font(s) DejaVu Sans.\n",
      "  plt.tight_layout()\n",
      "/Users/fukasakai/Hack-1_2025/.venv/lib/python3.10/site-packages/IPython/core/pylabtools.py:170: UserWarning: Glyph 27491 (\\N{CJK UNIFIED IDEOGRAPH-6B63}) missing from font(s) DejaVu Sans.\n",
      "  fig.canvas.print_figure(bytes_io, **kw)\n",
      "/Users/fukasakai/Hack-1_2025/.venv/lib/python3.10/site-packages/IPython/core/pylabtools.py:170: UserWarning: Glyph 35299 (\\N{CJK UNIFIED IDEOGRAPH-89E3}) missing from font(s) DejaVu Sans.\n",
      "  fig.canvas.print_figure(bytes_io, **kw)\n",
      "/Users/fukasakai/Hack-1_2025/.venv/lib/python3.10/site-packages/IPython/core/pylabtools.py:170: UserWarning: Glyph 29575 (\\N{CJK UNIFIED IDEOGRAPH-7387}) missing from font(s) DejaVu Sans.\n",
      "  fig.canvas.print_figure(bytes_io, **kw)\n",
      "/Users/fukasakai/Hack-1_2025/.venv/lib/python3.10/site-packages/IPython/core/pylabtools.py:170: UserWarning: Glyph 12514 (\\N{KATAKANA LETTER MO}) missing from font(s) DejaVu Sans.\n",
      "  fig.canvas.print_figure(bytes_io, **kw)\n",
      "/Users/fukasakai/Hack-1_2025/.venv/lib/python3.10/site-packages/IPython/core/pylabtools.py:170: UserWarning: Glyph 12487 (\\N{KATAKANA LETTER DE}) missing from font(s) DejaVu Sans.\n",
      "  fig.canvas.print_figure(bytes_io, **kw)\n",
      "/Users/fukasakai/Hack-1_2025/.venv/lib/python3.10/site-packages/IPython/core/pylabtools.py:170: UserWarning: Glyph 12523 (\\N{KATAKANA LETTER RU}) missing from font(s) DejaVu Sans.\n",
      "  fig.canvas.print_figure(bytes_io, **kw)\n",
      "/Users/fukasakai/Hack-1_2025/.venv/lib/python3.10/site-packages/IPython/core/pylabtools.py:170: UserWarning: Glyph 31934 (\\N{CJK UNIFIED IDEOGRAPH-7CBE}) missing from font(s) DejaVu Sans.\n",
      "  fig.canvas.print_figure(bytes_io, **kw)\n",
      "/Users/fukasakai/Hack-1_2025/.venv/lib/python3.10/site-packages/IPython/core/pylabtools.py:170: UserWarning: Glyph 24230 (\\N{CJK UNIFIED IDEOGRAPH-5EA6}) missing from font(s) DejaVu Sans.\n",
      "  fig.canvas.print_figure(bytes_io, **kw)\n",
      "/Users/fukasakai/Hack-1_2025/.venv/lib/python3.10/site-packages/IPython/core/pylabtools.py:170: UserWarning: Glyph 12398 (\\N{HIRAGANA LETTER NO}) missing from font(s) DejaVu Sans.\n",
      "  fig.canvas.print_figure(bytes_io, **kw)\n",
      "/Users/fukasakai/Hack-1_2025/.venv/lib/python3.10/site-packages/IPython/core/pylabtools.py:170: UserWarning: Glyph 25512 (\\N{CJK UNIFIED IDEOGRAPH-63A8}) missing from font(s) DejaVu Sans.\n",
      "  fig.canvas.print_figure(bytes_io, **kw)\n",
      "/Users/fukasakai/Hack-1_2025/.venv/lib/python3.10/site-packages/IPython/core/pylabtools.py:170: UserWarning: Glyph 31227 (\\N{CJK UNIFIED IDEOGRAPH-79FB}) missing from font(s) DejaVu Sans.\n",
      "  fig.canvas.print_figure(bytes_io, **kw)\n",
      "/Users/fukasakai/Hack-1_2025/.venv/lib/python3.10/site-packages/IPython/core/pylabtools.py:170: UserWarning: Glyph 12456 (\\N{KATAKANA LETTER E}) missing from font(s) DejaVu Sans.\n",
      "  fig.canvas.print_figure(bytes_io, **kw)\n",
      "/Users/fukasakai/Hack-1_2025/.venv/lib/python3.10/site-packages/IPython/core/pylabtools.py:170: UserWarning: Glyph 12509 (\\N{KATAKANA LETTER PO}) missing from font(s) DejaVu Sans.\n",
      "  fig.canvas.print_figure(bytes_io, **kw)\n",
      "/Users/fukasakai/Hack-1_2025/.venv/lib/python3.10/site-packages/IPython/core/pylabtools.py:170: UserWarning: Glyph 12483 (\\N{KATAKANA LETTER SMALL TU}) missing from font(s) DejaVu Sans.\n",
      "  fig.canvas.print_figure(bytes_io, **kw)\n",
      "/Users/fukasakai/Hack-1_2025/.venv/lib/python3.10/site-packages/IPython/core/pylabtools.py:170: UserWarning: Glyph 12463 (\\N{KATAKANA LETTER KU}) missing from font(s) DejaVu Sans.\n",
      "  fig.canvas.print_figure(bytes_io, **kw)\n",
      "/Users/fukasakai/Hack-1_2025/.venv/lib/python3.10/site-packages/IPython/core/pylabtools.py:170: UserWarning: Glyph 35347 (\\N{CJK UNIFIED IDEOGRAPH-8A13}) missing from font(s) DejaVu Sans.\n",
      "  fig.canvas.print_figure(bytes_io, **kw)\n",
      "/Users/fukasakai/Hack-1_2025/.venv/lib/python3.10/site-packages/IPython/core/pylabtools.py:170: UserWarning: Glyph 32244 (\\N{CJK UNIFIED IDEOGRAPH-7DF4}) missing from font(s) DejaVu Sans.\n",
      "  fig.canvas.print_figure(bytes_io, **kw)\n",
      "/Users/fukasakai/Hack-1_2025/.venv/lib/python3.10/site-packages/IPython/core/pylabtools.py:170: UserWarning: Glyph 26908 (\\N{CJK UNIFIED IDEOGRAPH-691C}) missing from font(s) DejaVu Sans.\n",
      "  fig.canvas.print_figure(bytes_io, **kw)\n",
      "/Users/fukasakai/Hack-1_2025/.venv/lib/python3.10/site-packages/IPython/core/pylabtools.py:170: UserWarning: Glyph 35388 (\\N{CJK UNIFIED IDEOGRAPH-8A3C}) missing from font(s) DejaVu Sans.\n",
      "  fig.canvas.print_figure(bytes_io, **kw)\n",
      "/Users/fukasakai/Hack-1_2025/.venv/lib/python3.10/site-packages/IPython/core/pylabtools.py:170: UserWarning: Glyph 25613 (\\N{CJK UNIFIED IDEOGRAPH-640D}) missing from font(s) DejaVu Sans.\n",
      "  fig.canvas.print_figure(bytes_io, **kw)\n",
      "/Users/fukasakai/Hack-1_2025/.venv/lib/python3.10/site-packages/IPython/core/pylabtools.py:170: UserWarning: Glyph 22833 (\\N{CJK UNIFIED IDEOGRAPH-5931}) missing from font(s) DejaVu Sans.\n",
      "  fig.canvas.print_figure(bytes_io, **kw)\n"
     ]
    },
    {
     "data": {
      "image/png": "[encoded data removed]",
      "text/plain": [
       "<Figure size 1200x400 with 2 Axes>"
      ]
     },
     "metadata": {},
     "output_type": "display_data"
    }
   ],
   "source": [
    "import matplotlib.pyplot as plt\n",
    "\n",
    "# 精度（accuracy）をプロット\n",
    "plt.figure(figsize=(12, 4))\n",
    "\n",
    "plt.subplot(1, 2, 1)\n",
    "plt.plot(history.history['accuracy'], label='訓練 accuracy')\n",
    "plt.plot(history.history['val_accuracy'], label='検証 accuracy')\n",
    "plt.title('モデル精度の推移')\n",
    "plt.xlabel('エポック')\n",
    "plt.ylabel('正解率')\n",
    "plt.legend()\n",
    "\n",
    "# 損失（loss）をプロット\n",
    "plt.subplot(1, 2, 2)\n",
    "plt.plot(history.history['loss'], label='訓練 loss')\n",
    "plt.plot(history.history['val_loss'], label='検証 loss')\n",
    "plt.title('モデル損失の推移')\n",
    "plt.xlabel('エポック')\n",
    "plt.ylabel('損失')\n",
    "plt.legend()\n",
    "\n",
    "plt.tight_layout()\n",
    "plt.show()\n"
   ]
  },
  {
   "cell_type": "code",
   "execution_count": 62,
   "id": "c1bd2dc5",
   "metadata": {},
   "outputs": [
    {
     "name": "stdout",
     "output_type": "stream",
     "text": [
      "\u001b[1m1/1\u001b[0m \u001b[32m━━━━━━━━━━━━━━━━━━━━\u001b[0m\u001b[37m\u001b[0m \u001b[1m0s\u001b[0m 376ms/step - accuracy: 0.4000 - loss: 1.4131\n",
      "検証データに対する正解率: 0.4000\n",
      "検証データに対する損失: 1.4131\n"
     ]
    }
   ],
   "source": [
    "# 検証データセットで評価（またはテスト用に別途用意したデータセット）\n",
    "loss, accuracy = model.evaluate(val_ds)\n",
    "\n",
    "print(f\"検証データに対する正解率: {accuracy:.4f}\")  # 小数点4桁（例: 0.8750 = 87.5%）\n",
    "print(f\"検証データに対する損失: {loss:.4f}\")\n"
   ]
  },
  {
   "cell_type": "code",
   "execution_count": 64,
   "id": "328a0fc9",
   "metadata": {},
   "outputs": [
    {
     "name": "stdout",
     "output_type": "stream",
     "text": [
      "\u001b[1m1/1\u001b[0m \u001b[32m━━━━━━━━━━━━━━━━━━━━\u001b[0m\u001b[37m\u001b[0m \u001b[1m0s\u001b[0m 355ms/step\n",
      "/Users/fukasakai/Hack-1_2025/test/t_curry.png => 推論: hamburger_steak, 正解: カレー\n",
      "\u001b[1m1/1\u001b[0m \u001b[32m━━━━━━━━━━━━━━━━━━━━\u001b[0m\u001b[37m\u001b[0m \u001b[1m0s\u001b[0m 29ms/step\n",
      "/Users/fukasakai/Hack-1_2025/test/t_fried_rice.png => 推論: hamburger_steak, 正解: チャーハン\n",
      "\u001b[1m1/1\u001b[0m \u001b[32m━━━━━━━━━━━━━━━━━━━━\u001b[0m\u001b[37m\u001b[0m \u001b[1m0s\u001b[0m 28ms/step\n",
      "/Users/fukasakai/Hack-1_2025/test/t_hamburg_steak.png => 推論: hamburger_steak, 正解: ハンバーグ\n",
      "\n",
      "正解率: 0.00%\n",
      "それ美味しそうだね！\n"
     ]
    }
   ],
   "source": [
    "from PIL import Image\n",
    "import numpy as np\n",
    "\n",
    "# クラス名リスト（例）\n",
    "class_names = train_ds.class_names  # ['hamburg', 'curry', 'sushi', ...]\n",
    "\n",
    "# 正解データ（img_pathとその正解クラス名）\n",
    "test_data = [(\"/Users/fukasakai/Hack-1_2025/test/t_curry.png\", \"カレー\"),(\"/Users/fukasakai/Hack-1_2025/test/t_fried_rice.png\",\"チャーハン\"),( \"/Users/fukasakai/Hack-1_2025/test/t_hamburg_steak.png\", \"ハンバーグ\")]\n",
    "    \n",
    "\n",
    "# 正解カウント\n",
    "correct = 0\n",
    "\n",
    "def predict_image(img_path):\n",
    "    img = Image.open(img_path).convert(\"RGB\").resize(image_size)\n",
    "    img_array = np.array(img) / 255.0\n",
    "    img_array = np.expand_dims(img_array, axis=0)\n",
    "    predictions = model.predict(img_array)\n",
    "    predicted_index = np.argmax(predictions)\n",
    "    predicted_class = class_names[predicted_index]\n",
    "    return predicted_class\n",
    "\n",
    "# 各画像で推論して正解チェック\n",
    "for img_path, true_label in test_data:\n",
    "    predicted = predict_image(img_path)\n",
    "    print(f\"{img_path} => 推論: {predicted}, 正解: {true_label}\")\n",
    "    if predicted == true_label:\n",
    "        correct += 1\n",
    "\n",
    "# 正解率を計算\n",
    "accuracy = correct / len(test_data)\n",
    "print(f\"\\n正解率: {accuracy:.2%}\")\n",
    "\n",
    "# コメント出力\n",
    "if accuracy >= 0.7:\n",
    "    print(f\"{predicted}、美味しそうだね！\")\n",
    "else:\n",
    "    print(\"それ美味しそうだね！\")\n"
   ]
  }
 ],
 "metadata": {
  "kernelspec": {
   "display_name": ".venv",
   "language": "python",
   "name": "python3"
  },
  "language_info": {
   "codemirror_mode": {
    "name": "ipython",
    "version": 3
   },
   "file_extension": ".py",
   "mimetype": "text/x-python",
   "name": "python",
   "nbconvert_exporter": "python",
   "pygments_lexer": "ipython3",
   "version": "3.10.1"
  }
 },
 "nbformat": 4,
 "nbformat_minor": 5
}
