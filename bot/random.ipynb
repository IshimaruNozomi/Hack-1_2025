{
 "cells": [
  {
   "cell_type": "code",
   "execution_count": 1,
   "id": "14d8ebc9",
   "metadata": {},
   "outputs": [],
   "source": [
    "import requests\n",
    "import random\n"
   ]
  },
  {
   "cell_type": "code",
   "execution_count": null,
   "id": "78ebdd70",
   "metadata": {},
   "outputs": [],
   "source": [
    "# 認証トークンなど\n",
    "headers = {\n",
    "    \"Authorization\": \"Bearer YOUR_TOKEN\"\n",
    "}"
   ]
  },
  {
   "cell_type": "code",
   "execution_count": null,
   "id": "48a64324",
   "metadata": {},
   "outputs": [],
   "source": [
    "# 投稿一覧を取得\n",
    "posts = requests.get(\"https://yourapp.com/api/posts\", headers=headers).json()\n"
   ]
  },
  {
   "cell_type": "code",
   "execution_count": null,
   "id": "0c8f182b",
   "metadata": {},
   "outputs": [],
   "source": [
    "# ランダムに3件選んで「いいね」\n",
    "for post in random.sample(posts, k=3):\n",
    "    post_id = post[\"id\"]\n",
    "    like_url = f\"https://yourapp.com/api/posts/{post_id}/like\"\n",
    "    res = requests.post(like_url, headers=headers)\n",
    "    print(f\"Liked post {post_id}: {res.status_code}\")"
   ]
  }
 ],
 "metadata": {
  "kernelspec": {
   "display_name": ".venv",
   "language": "python",
   "name": "python3"
  },
  "language_info": {
   "codemirror_mode": {
    "name": "ipython",
    "version": 3
   },
   "file_extension": ".py",
   "mimetype": "text/x-python",
   "name": "python",
   "nbconvert_exporter": "python",
   "pygments_lexer": "ipython3",
   "version": "3.10.1"
  }
 },
 "nbformat": 4,
 "nbformat_minor": 5
}
