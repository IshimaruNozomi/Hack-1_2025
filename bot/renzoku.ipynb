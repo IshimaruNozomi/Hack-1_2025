{
 "cells": [
  {
   "cell_type": "code",
   "execution_count": 1,
   "id": "599c0da6",
   "metadata": {},
   "outputs": [
    {
     "name": "stdout",
     "output_type": "stream",
     "text": [
      "3日連続で投稿しています！\n"
     ]
    }
   ],
   "source": [
    "from datetime import datetime, timedelta\n",
    "\n",
    "# 例：ユーザーごとの投稿日時リスト（実際はDBから取得）\n",
    "post_dates = [\n",
    "    \"2025-05-26\",\n",
    "    \"2025-05-27\",\n",
    "    \"2025-05-28\",\n",
    "    \"2025-05-29\",\n",
    "]\n",
    "\n",
    "def get_consecutive_post_days(post_dates):\n",
    "    # 日付を datetime 型に変換してソート（古い順）\n",
    "    dates = sorted([datetime.strptime(d, \"%Y-%m-%d\") for d in post_dates])\n",
    "    today = datetime.now().date()\n",
    "\n",
    "    # 新しい順にして末尾からカウント\n",
    "    count = 1\n",
    "    for i in range(len(dates) - 1, 0, -1):\n",
    "        delta = (dates[i].date() - dates[i - 1].date()).days\n",
    "        if delta == 1:\n",
    "            count += 1\n",
    "        elif delta == 0:\n",
    "            continue  # 同じ日付ならスキップ\n",
    "        else:\n",
    "            break\n",
    "\n",
    "    # 今日は投稿していない場合、連続記録は昨日まで\n",
    "    if dates[-1].date() != today:\n",
    "        return count - 1\n",
    "    return count\n",
    "\n",
    "days = get_consecutive_post_days(post_dates)\n",
    "print(f\"{days}日連続で投稿しています！\")\n"
   ]
  }
 ],
 "metadata": {
  "kernelspec": {
   "display_name": ".venv",
   "language": "python",
   "name": "python3"
  },
  "language_info": {
   "codemirror_mode": {
    "name": "ipython",
    "version": 3
   },
   "file_extension": ".py",
   "mimetype": "text/x-python",
   "name": "python",
   "nbconvert_exporter": "python",
   "pygments_lexer": "ipython3",
   "version": "3.10.1"
  }
 },
 "nbformat": 4,
 "nbformat_minor": 5
}
